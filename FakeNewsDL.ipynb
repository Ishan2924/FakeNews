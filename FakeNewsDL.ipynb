{
 "cells": [
  {
   "cell_type": "code",
   "execution_count": 1,
   "id": "51b15330-b5e6-40bc-8a74-bb1a6f72975e",
   "metadata": {},
   "outputs": [],
   "source": [
    "import pandas as pd\n",
    "import numpy as np\n",
    "import tensorflow as tf\n",
    "from tensorflow.keras.preprocessing.text import Tokenizer\n",
    "from tensorflow.keras.preprocessing.sequence import pad_sequences\n",
    "from sklearn.model_selection import train_test_split\n",
    "from tensorflow.keras.callbacks import EarlyStopping\n",
    "from tensorflow.keras import regularizers"
   ]
  },
  {
   "cell_type": "code",
   "execution_count": 2,
   "id": "0fb902c7-e3c4-43ee-b947-494d768a0f32",
   "metadata": {},
   "outputs": [],
   "source": [
    "# Load your cleaned data\n",
    "df = pd.read_csv('preprocessed_news.csv')"
   ]
  },
  {
   "cell_type": "code",
   "execution_count": 3,
   "id": "1f17aedb-1cc6-43f2-b6bf-9ced0311545b",
   "metadata": {},
   "outputs": [
    {
     "data": {
      "text/html": [
       "<div>\n",
       "<style scoped>\n",
       "    .dataframe tbody tr th:only-of-type {\n",
       "        vertical-align: middle;\n",
       "    }\n",
       "\n",
       "    .dataframe tbody tr th {\n",
       "        vertical-align: top;\n",
       "    }\n",
       "\n",
       "    .dataframe thead th {\n",
       "        text-align: right;\n",
       "    }\n",
       "</style>\n",
       "<table border=\"1\" class=\"dataframe\">\n",
       "  <thead>\n",
       "    <tr style=\"text-align: right;\">\n",
       "      <th></th>\n",
       "      <th>Unnamed: 0</th>\n",
       "      <th>text</th>\n",
       "      <th>class</th>\n",
       "      <th>preprocessed_text</th>\n",
       "    </tr>\n",
       "  </thead>\n",
       "  <tbody>\n",
       "    <tr>\n",
       "      <th>0</th>\n",
       "      <td>0</td>\n",
       "      <td>WASHINGTON (Reuters) - President Donald Trump ...</td>\n",
       "      <td>1</td>\n",
       "      <td>washington reuters president donald trump stan...</td>\n",
       "    </tr>\n",
       "    <tr>\n",
       "      <th>1</th>\n",
       "      <td>1</td>\n",
       "      <td>The victim of the angry Bernie Sanders support...</td>\n",
       "      <td>0</td>\n",
       "      <td>the victim angry bernie sanders supporter amaz...</td>\n",
       "    </tr>\n",
       "    <tr>\n",
       "      <th>2</th>\n",
       "      <td>2</td>\n",
       "      <td>Liberals on Twitter accused President Donald T...</td>\n",
       "      <td>0</td>\n",
       "      <td>liberals twitter accused president donald trum...</td>\n",
       "    </tr>\n",
       "    <tr>\n",
       "      <th>3</th>\n",
       "      <td>3</td>\n",
       "      <td>If you re sitting at your computer, take a dee...</td>\n",
       "      <td>0</td>\n",
       "      <td>if sitting computer take deep breath if readin...</td>\n",
       "    </tr>\n",
       "    <tr>\n",
       "      <th>4</th>\n",
       "      <td>4</td>\n",
       "      <td>HARARE (Reuters) - Zimbabwe s former president...</td>\n",
       "      <td>1</td>\n",
       "      <td>harare reuters zimbabwe former president rober...</td>\n",
       "    </tr>\n",
       "  </tbody>\n",
       "</table>\n",
       "</div>"
      ],
      "text/plain": [
       "   Unnamed: 0                                               text  class  \\\n",
       "0           0  WASHINGTON (Reuters) - President Donald Trump ...      1   \n",
       "1           1  The victim of the angry Bernie Sanders support...      0   \n",
       "2           2  Liberals on Twitter accused President Donald T...      0   \n",
       "3           3  If you re sitting at your computer, take a dee...      0   \n",
       "4           4  HARARE (Reuters) - Zimbabwe s former president...      1   \n",
       "\n",
       "                                   preprocessed_text  \n",
       "0  washington reuters president donald trump stan...  \n",
       "1  the victim angry bernie sanders supporter amaz...  \n",
       "2  liberals twitter accused president donald trum...  \n",
       "3  if sitting computer take deep breath if readin...  \n",
       "4  harare reuters zimbabwe former president rober...  "
      ]
     },
     "execution_count": 3,
     "metadata": {},
     "output_type": "execute_result"
    }
   ],
   "source": [
    "df.head()"
   ]
  },
  {
   "cell_type": "code",
   "execution_count": 4,
   "id": "f7cf06ee-b295-4d43-8f80-f073a62b2be1",
   "metadata": {},
   "outputs": [],
   "source": [
    "# Extract features and labels\n",
    "texts = df['preprocessed_text'].astype(str).tolist()\n",
    "labels = df['class'].values"
   ]
  },
  {
   "cell_type": "code",
   "execution_count": 5,
   "id": "6187c684-a52a-4c63-9210-83baf8d31278",
   "metadata": {},
   "outputs": [],
   "source": [
    "# Tokenize and pad the text\n",
    "tokenizer = Tokenizer(num_words=10000, oov_token=\"<OOV>\")\n",
    "tokenizer.fit_on_texts(texts)\n",
    "sequences = tokenizer.texts_to_sequences(texts)\n",
    "X = pad_sequences(sequences, maxlen=300)\n"
   ]
  },
  {
   "cell_type": "code",
   "execution_count": 6,
   "id": "f5e96d5d-aa45-4168-837d-4fa46fb46d0a",
   "metadata": {},
   "outputs": [],
   "source": [
    "# Train/test split\n",
    "X_train, X_test, y_train, y_test = train_test_split(X, labels, test_size=0.2, random_state=37,stratify = labels)"
   ]
  },
  {
   "cell_type": "code",
   "execution_count": 13,
   "id": "70a9e27b-4dde-4607-81c4-4729a0e293e0",
   "metadata": {},
   "outputs": [],
   "source": [
    "input_layer = tf.keras.Input(shape=(300,))\n",
    "x = tf.keras.layers.Embedding(input_dim=10000, output_dim=64)(input_layer)\n",
    "x = tf.keras.layers.GlobalAveragePooling1D()(x)\n",
    "x = tf.keras.layers.Dense(16, activation='tanh', kernel_regularizer=regularizers.l2(0.01))(x)\n",
    "x = tf.keras.layers.Dropout(0.6)(x)\n",
    "output_layer = tf.keras.layers.Dense(1, activation='sigmoid')(x)"
   ]
  },
  {
   "cell_type": "code",
   "execution_count": 14,
   "id": "1424e8cf-c03b-4f25-b09f-f6bebbf201b7",
   "metadata": {},
   "outputs": [],
   "source": [
    "model = tf.keras.Model(inputs=input_layer, outputs=output_layer)"
   ]
  },
  {
   "cell_type": "code",
   "execution_count": 15,
   "id": "89c1ce3e-c440-47ea-87f8-940d8004f075",
   "metadata": {},
   "outputs": [
    {
     "name": "stdout",
     "output_type": "stream",
     "text": [
      "Epoch 1/5\n",
      "\u001b[1m1294/1294\u001b[0m \u001b[32m━━━━━━━━━━━━━━━━━━━━\u001b[0m\u001b[37m\u001b[0m \u001b[1m5s\u001b[0m 3ms/step - accuracy: 0.6968 - loss: 0.6455 - val_accuracy: 0.9143 - val_loss: 0.2910\n",
      "Epoch 2/5\n",
      "\u001b[1m1294/1294\u001b[0m \u001b[32m━━━━━━━━━━━━━━━━━━━━\u001b[0m\u001b[37m\u001b[0m \u001b[1m4s\u001b[0m 3ms/step - accuracy: 0.9251 - loss: 0.2697 - val_accuracy: 0.9402 - val_loss: 0.1976\n",
      "Epoch 3/5\n",
      "\u001b[1m1294/1294\u001b[0m \u001b[32m━━━━━━━━━━━━━━━━━━━━\u001b[0m\u001b[37m\u001b[0m \u001b[1m4s\u001b[0m 3ms/step - accuracy: 0.9549 - loss: 0.1832 - val_accuracy: 0.9691 - val_loss: 0.1411\n",
      "Epoch 4/5\n",
      "\u001b[1m1294/1294\u001b[0m \u001b[32m━━━━━━━━━━━━━━━━━━━━\u001b[0m\u001b[37m\u001b[0m \u001b[1m4s\u001b[0m 3ms/step - accuracy: 0.9651 - loss: 0.1447 - val_accuracy: 0.9780 - val_loss: 0.1058\n",
      "Epoch 5/5\n",
      "\u001b[1m1294/1294\u001b[0m \u001b[32m━━━━━━━━━━━━━━━━━━━━\u001b[0m\u001b[37m\u001b[0m \u001b[1m4s\u001b[0m 3ms/step - accuracy: 0.9734 - loss: 0.1182 - val_accuracy: 0.9819 - val_loss: 0.0915\n"
     ]
    },
    {
     "data": {
      "text/plain": [
       "<keras.src.callbacks.history.History at 0x1ec4516f410>"
      ]
     },
     "execution_count": 15,
     "metadata": {},
     "output_type": "execute_result"
    }
   ],
   "source": [
    "model.compile(loss='binary_crossentropy',\n",
    "              optimizer='rmsprop',\n",
    "              metrics=['accuracy'])\n",
    "early_stop = EarlyStopping(monitor='val_loss', patience=3, restore_best_weights=True)\n",
    "model.fit(X_train, y_train, epochs=5, batch_size=25, validation_split=0.1,callbacks = [early_stop])"
   ]
  },
  {
   "cell_type": "code",
   "execution_count": 16,
   "id": "6da35534-9956-43e4-8246-11c10b6c3e76",
   "metadata": {},
   "outputs": [
    {
     "name": "stdout",
     "output_type": "stream",
     "text": [
      "\u001b[1m281/281\u001b[0m \u001b[32m━━━━━━━━━━━━━━━━━━━━\u001b[0m\u001b[37m\u001b[0m \u001b[1m0s\u001b[0m 712us/step\n",
      "              precision    recall  f1-score   support\n",
      "\n",
      "           0     0.9832    0.9817    0.9824      4701\n",
      "           1     0.9800    0.9816    0.9808      4283\n",
      "\n",
      "    accuracy                         0.9816      8984\n",
      "   macro avg     0.9816    0.9816    0.9816      8984\n",
      "weighted avg     0.9816    0.9816    0.9816      8984\n",
      "\n"
     ]
    }
   ],
   "source": [
    "from sklearn.metrics import accuracy_score, precision_score, recall_score, f1_score, classification_report\n",
    "\n",
    "\n",
    "y_pred = model.predict(X_test)\n",
    "y_pred = (y_pred > 0.5).astype(int)\n",
    "\n",
    "# Evaluation\n",
    "print(classification_report(y_test, y_pred, digits=4))"
   ]
  },
  {
   "cell_type": "code",
   "execution_count": 23,
   "id": "aafcd912-4180-49da-a77e-467d415b65bf",
   "metadata": {},
   "outputs": [
    {
     "data": {
      "image/png": "[encoded data removed]",
      "text/plain": [
       "<Figure size 800x600 with 2 Axes>"
      ]
     },
     "metadata": {},
     "output_type": "display_data"
    }
   ],
   "source": [
    "from sklearn import metrics\n",
    "import matplotlib.pyplot as plt\n",
    "import numpy as np\n",
    "\n",
    "# Confusion matrix of Results from Decision Tree classification\n",
    "from sklearn import metrics\n",
    "cm = metrics.confusion_matrix(y_test, y_pred)\n",
    "\n",
    "cm_display = metrics.ConfusionMatrixDisplay(confusion_matrix=cm,\n",
    "                                            display_labels=['Real News (0)', 'Fake News (1)'])\n",
    "\n",
    "fig, ax = plt.subplots(figsize=(8, 6))\n",
    "cm_display.plot(ax=ax)\n",
    "ax.set_title('Confusion Matrix for Deep Neural Network', fontsize=14, pad=20)\n",
    "plt.show()\n"
   ]
  },
  {
   "cell_type": "code",
   "execution_count": null,
   "id": "ce5fb322-b2b9-43bf-9dc9-7abcb433dec8",
   "metadata": {},
   "outputs": [],
   "source": []
  }
 ],
 "metadata": {
  "kernelspec": {
   "display_name": "Python (tensorflow)",
   "language": "python",
   "name": "tensorflow"
  },
  "language_info": {
   "codemirror_mode": {
    "name": "ipython",
    "version": 3
   },
   "file_extension": ".py",
   "mimetype": "text/x-python",
   "name": "python",
   "nbconvert_exporter": "python",
   "pygments_lexer": "ipython3",
   "version": "3.11.8"
  }
 },
 "nbformat": 4,
 "nbformat_minor": 5
}
